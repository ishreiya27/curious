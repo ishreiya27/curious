{
  "nbformat": 4,
  "nbformat_minor": 0,
  "metadata": {
    "colab": {
      "name": "Ass2.ipynb",
      "provenance": [],
      "authorship_tag": "ABX9TyMCyPwEiN/+OfMiXQBIaRMC",
      "include_colab_link": true
    },
    "kernelspec": {
      "name": "python3",
      "display_name": "Python 3"
    }
  },
  "cells": [
    {
      "cell_type": "markdown",
      "metadata": {
        "id": "view-in-github",
        "colab_type": "text"
      },
      "source": [
        "<a href=\"https://colab.research.google.com/github/ishreiya27/curious/blob/master/Ass2_BigDataAnalytics.ipynb\" target=\"_parent\"><img src=\"https://colab.research.google.com/assets/colab-badge.svg\" alt=\"Open In Colab\"/></a>"
      ]
    },
    {
      "cell_type": "code",
      "metadata": {
        "id": "n6zqXWcd9Bw1",
        "colab_type": "code",
        "colab": {}
      },
      "source": [
        ""
      ],
      "execution_count": 0,
      "outputs": []
    },
    {
      "cell_type": "code",
      "metadata": {
        "colab_type": "code",
        "id": "aaj7n9609Ssk",
        "colab": {}
      },
      "source": [
        "!apt-get install openjdk-8-jdk-headless -qq > /dev/null\n",
        "!wget -q https://www-us.apache.org/dist/spark/spark-2.4.5/spark-2.4.5-bin-hadoop2.7.tgz\n",
        "!tar xf spark-2.4.5-bin-hadoop2.7.tgz\n",
        "!pip install -q findspark"
      ],
      "execution_count": 0,
      "outputs": []
    },
    {
      "cell_type": "code",
      "metadata": {
        "colab_type": "code",
        "id": "FU0I9jZf9Ssm",
        "colab": {}
      },
      "source": [
        "import os\n",
        "os.environ[\"JAVA_HOME\"] = \"/usr/lib/jvm/java-8-openjdk-amd64\"\n",
        "os.environ[\"SPARK_HOME\"] = \"/content/spark-2.4.5-bin-hadoop2.7\""
      ],
      "execution_count": 0,
      "outputs": []
    },
    {
      "cell_type": "code",
      "metadata": {
        "colab_type": "code",
        "id": "9VcdyS0D9Sso",
        "colab": {}
      },
      "source": [
        "import findspark\n",
        "findspark.init()\n",
        "from pyspark.sql import SparkSession\n",
        "spark = SparkSession.builder.master(\"local[*]\").getOrCreate()"
      ],
      "execution_count": 0,
      "outputs": []
    },
    {
      "cell_type": "code",
      "metadata": {
        "colab_type": "code",
        "id": "ELtFH40M9Ssp",
        "colab": {}
      },
      "source": [
        "from google.colab import files\n",
        "uploaded = files.upload()"
      ],
      "execution_count": 0,
      "outputs": []
    },
    {
      "cell_type": "code",
      "metadata": {
        "colab_type": "code",
        "id": "e9tb_fv49Ssr",
        "colab": {}
      },
      "source": [
        "#Importing the data as a pandas dataframe and printing its shape\n",
        "\n",
        "import pandas as pd\n",
        "amazon_df = pd.read_csv(\"/content/Amazon_Responded_Oct05.csv\", error_bad_lines=False) \n",
        "amazon_df.head()\n",
        "amazon_df.shape"
      ],
      "execution_count": 0,
      "outputs": []
    },
    {
      "cell_type": "code",
      "metadata": {
        "colab_type": "code",
        "outputId": "4f6d3396-3f00-4dd5-c2c0-bae749a41f8c",
        "id": "FCyS-oAB9Sst",
        "colab": {
          "base_uri": "https://localhost:8080/",
          "height": 34
        }
      },
      "source": [
        "# Removing all Null values from the dataframe amazon_df and printing the new dimensions\n",
        "\n",
        "amazon_clean = amazon_df.dropna(how=\"all\")\n",
        "amazon_clean.shape"
      ],
      "execution_count": 5,
      "outputs": [
        {
          "output_type": "execute_result",
          "data": {
            "text/plain": [
              "(378132, 25)"
            ]
          },
          "metadata": {
            "tags": []
          },
          "execution_count": 5
        }
      ]
    },
    {
      "cell_type": "code",
      "metadata": {
        "colab_type": "code",
        "id": "aSfV-BMp9Ssv",
        "colab": {}
      },
      "source": [
        "DateField = amazon_clean[\"tweet_created_at\"].str.split(\" \", n = 6, expand = True) \n",
        "  \n",
        "amazon_clean[\"WeekDay\"]= DateField[0] \n",
        "amazon_clean[\"Month\"]= DateField[1] \n",
        "amazon_clean[\"Date\"]= DateField[2] \n",
        "amazon_clean[\"TimeStamp\"]= DateField[3] \n",
        "amazon_clean[\"Geo\"]= DateField[4] \n",
        "amazon_clean[\"Year\"]= DateField[5] \n",
        "\n"
      ],
      "execution_count": 0,
      "outputs": []
    },
    {
      "cell_type": "code",
      "metadata": {
        "colab_type": "code",
        "id": "ZNQWfM__9Ssx",
        "colab": {}
      },
      "source": [
        "amazon_clean['Create_Date'] = amazon_clean[['Month', 'Date']].apply(lambda x: ' '.join(x), axis=1)"
      ],
      "execution_count": 0,
      "outputs": []
    },
    {
      "cell_type": "code",
      "metadata": {
        "colab_type": "code",
        "id": "fMCsdJl_9Ssz",
        "colab": {}
      },
      "source": [
        "amazon_clean.head(5)"
      ],
      "execution_count": 0,
      "outputs": []
    },
    {
      "cell_type": "code",
      "metadata": {
        "colab_type": "code",
        "id": "2cIkSELx9Ss1",
        "colab": {
          "base_uri": "https://localhost:8080/",
          "height": 306
        },
        "outputId": "bb39701f-f114-4eb7-838c-9f70fa986274"
      },
      "source": [
        "# Converting Pandas Dataframe into Spark RDD Dataframe\n",
        "amazon_clean = amazon_clean.astype(str) # Converting pandas df to string first\n",
        "Tweet_sdf = spark.createDataFrame(amazon_clean)\n",
        "Tweet_sdf.show(10, False) # False allows us to show entire content of the columns"
      ],
      "execution_count": 9,
      "outputs": [
        {
          "output_type": "stream",
          "text": [
            "+--------------------+------------------------------+----------------+-----------+-------------------+---------------------+--------------+-----------------+--------------+----------------------------------------------------------------------------------------------------------------------------------------------+-------------+-------------+--------------------+------------------+------------------------------+--------------+------------------------------------------------------------------------------------------------------------------------------------------+--------------+---------+-----------------------+-------------------------+-----------------------+-------------+---------+-----------------------------------------------------------------------------------------------------------------------------------------+-------+-----+----+---------+-----+----+-----------+\n",
            "|id_str              |tweet_created_at              |user_screen_name|user_id_str|user_statuses_count|user_favourites_count|user_protected|user_listed_count|user_following|user_description                                                                                                                              |user_location|user_verified|user_followers_count|user_friends_count|user_created_at               |tweet_language|text_                                                                                                                                     |favorite_count|favorited|in_reply_to_screen_name|in_reply_to_status_id_str|in_reply_to_user_id_str|retweet_count|retweeted|text                                                                                                                                     |WeekDay|Month|Date|TimeStamp|Geo  |Year|Create_Date|\n",
            "+--------------------+------------------------------+----------------+-----------+-------------------+---------------------+--------------+-----------------+--------------+----------------------------------------------------------------------------------------------------------------------------------------------+-------------+-------------+--------------------+------------------+------------------------------+--------------+------------------------------------------------------------------------------------------------------------------------------------------+--------------+---------+-----------------------+-------------------------+-----------------------+-------------+---------+-----------------------------------------------------------------------------------------------------------------------------------------+-------+-----+----+---------+-----+----+-----------+\n",
            "|'793270689780203520'|Tue Nov 01 01:57:25 +0000 2016|SeanEPanjab     |143515471.0|51287              |4079                 |False         |74               |False         |Content marketer; Polyglot; Beard aficionado; Sikh. Persian, Catalan, French, Spanish. You'll find lol in the interstitial lulls of my tweets.|غریب الوطن   |False        |1503                |850               |Thu May 13 17:43:52 +0000 2010|en            |@AmazonHelp Can you please DM me? A product I ordered last year never arrived.                                                            |0             |False    |AmazonHelp             |nan                      |85741735.0             |0            |False    |nan                                                                                                                                      |Tue    |Nov  |01  |01:57:25 |+0000|2016|Nov 01     |\n",
            "|'793281386912354304'|Tue Nov 01 02:39:55 +0000 2016|AmazonHelp      |85741735.0 |2225450            |11366                |False         |796              |False         |We answer Amazon support questions 7 days a week. Support available in English / Deutsch / Español / Português / Français / Italiano / 日本語 |nan          |True         |149569              |53                |Wed Oct 28 04:17:54 +0000 2009|en            |@SeanEPanjab I'm sorry, we're unable to DM you. Was this order purchased on https://t.co/nUUp5MLhYl, or one of our other sites? ^CL       |0             |False    |SeanEPanjab            |7.932706897802035e+17    |143515471.0            |0            |False    |nan                                                                                                                                      |Tue    |Nov  |01  |02:39:55 |+0000|2016|Nov 01     |\n",
            "|'793501578766319616'|Tue Nov 01 17:14:53 +0000 2016|SeanEPanjab     |143515471.0|51287              |4079                 |False         |74               |False         |Content marketer; Polyglot; Beard aficionado; Sikh. Persian, Catalan, French, Spanish. You'll find lol in the interstitial lulls of my tweets.|غریب الوطن   |False        |1503                |850               |Thu May 13 17:43:52 +0000 2010|en            |@AmazonHelp It was purchased on https://t.co/gPWnuSkbwC.                                                                                  |0             |False    |AmazonHelp             |7.932813869123543e+17    |85741735.0             |0            |False    |@AmazonHelp It was purchased on https://t.co/gPWnuSkbwC.                                                                                 |Tue    |Nov  |01  |17:14:53 |+0000|2016|Nov 01     |\n",
            "|'793501657346682880'|Tue Nov 01 17:15:12 +0000 2016|SeanEPanjab     |143515471.0|51287              |4079                 |False         |74               |False         |Content marketer; Polyglot; Beard aficionado; Sikh. Persian, Catalan, French, Spanish. You'll find lol in the interstitial lulls of my tweets.|غریب الوطن   |False        |1503                |850               |Thu May 13 17:43:52 +0000 2010|en            |@AmazonHelp I am following you now, if it helps to DM.                                                                                    |0             |False    |AmazonHelp             |7.932813869123543e+17    |85741735.0             |0            |False    |nan                                                                                                                                      |Tue    |Nov  |01  |17:15:12 |+0000|2016|Nov 01     |\n",
            "|'793502854459879424'|Tue Nov 01 17:19:57 +0000 2016|AmazonHelp      |85741735.0 |2225450            |11366                |False         |796              |False         |We answer Amazon support questions 7 days a week. Support available in English / Deutsch / Español / Português / Français / Italiano / 日本語 |nan          |True         |149569              |53                |Wed Oct 28 04:17:54 +0000 2009|en            |@SeanEPanjab Please give us a call/chat so we can look into this order for you: https://t.co/hApLpMlfHN. ^HB                              |0             |False    |SeanEPanjab            |7.935015787663196e+17    |143515471.0            |0            |False    |@SeanEPanjab Please give us a call/chat so we can look into this order for you: https://t.co/hApLpMlfHN. ^HB                             |Tue    |Nov  |01  |17:19:57 |+0000|2016|Nov 01     |\n",
            "|'793504235400884224'|Tue Nov 01 17:25:26 +0000 2016|AmazonHelp      |85741735.0 |2225450            |11366                |False         |796              |False         |We answer Amazon support questions 7 days a week. Support available in English / Deutsch / Español / Português / Français / Italiano / 日本語 |nan          |True         |149569              |53                |Wed Oct 28 04:17:54 +0000 2009|en            |@SeanEPanjab Without providing any sensitive information, do the order details indicate that the item was ever shipped? ^SW               |0             |False    |SeanEPanjab            |7.935016573466829e+17    |143515471.0            |0            |False    |nan                                                                                                                                      |Tue    |Nov  |01  |17:25:26 |+0000|2016|Nov 01     |\n",
            "|'793511847899070465'|Tue Nov 01 17:55:41 +0000 2016|SeanEPanjab     |143515471.0|51287              |4079                 |False         |74               |False         |Content marketer; Polyglot; Beard aficionado; Sikh. Persian, Catalan, French, Spanish. You'll find lol in the interstitial lulls of my tweets.|غریب الوطن   |False        |1503                |850               |Thu May 13 17:43:52 +0000 2010|en            |@AmazonHelp It was shipped and possibly delivered to my old place of employment. But when I asked for it, no one had it. And so I wonder +|0             |False    |AmazonHelp             |7.935042354008842e+17    |85741735.0             |0            |False    |nan                                                                                                                                      |Tue    |Nov  |01  |17:55:41 |+0000|2016|Nov 01     |\n",
            "|'793511899279208449'|Tue Nov 01 17:55:54 +0000 2016|SeanEPanjab     |143515471.0|51287              |4079                 |False         |74               |False         |Content marketer; Polyglot; Beard aficionado; Sikh. Persian, Catalan, French, Spanish. You'll find lol in the interstitial lulls of my tweets.|غریب الوطن   |False        |1503                |850               |Thu May 13 17:43:52 +0000 2010|en            |@AmazonHelp if it was lost. I have the order #.                                                                                           |0             |False    |AmazonHelp             |7.935042354008842e+17    |85741735.0             |0            |False    |nan                                                                                                                                      |Tue    |Nov  |01  |17:55:54 |+0000|2016|Nov 01     |\n",
            "|'793513446633533440'|Tue Nov 01 18:02:03 +0000 2016|AmazonHelp      |85741735.0 |2225450            |11366                |False         |796              |False         |We answer Amazon support questions 7 days a week. Support available in English / Deutsch / Español / Português / Français / Italiano / 日本語 |nan          |True         |149569              |53                |Wed Oct 28 04:17:54 +0000 2009|en            |@SeanEPanjab I'm not able to access account info here. Please reach out by Phone/Chat so we can look at this: https://t.co/EKXRLsnxJu ^GL |0             |False    |SeanEPanjab            |7.935118992792084e+17    |143515471.0            |0            |False    |@SeanEPanjab I'm not able to access account info here. Please reach out by Phone/Chat so we can look at this: https://t.co/EKXRLsnxJu ^GL|Tue    |Nov  |01  |18:02:03 |+0000|2016|Nov 01     |\n",
            "|'793299404975247360'|Tue Nov 01 03:51:31 +0000 2016|aakashwangnoo   |71457972.0 |592                |471                  |False         |11               |False         |Don't try to be GOD in your lives...Let HIM work in your lives...and see the magic that he weaves...                                          |New Delhi    |False        |234                 |57                |Fri Sep 04 04:55:01 +0000 2009|en            |@JeffBezos @amazonIN @AmazonHelp Tring...Tring...Tring Who's There? Your Suffering Customers from India Mr. Bezos...Get Up and Help!      |0             |False    |JeffBezos              |nan                      |15506669.0             |0            |False    |nan                                                                                                                                      |Tue    |Nov  |01  |03:51:31 |+0000|2016|Nov 01     |\n",
            "+--------------------+------------------------------+----------------+-----------+-------------------+---------------------+--------------+-----------------+--------------+----------------------------------------------------------------------------------------------------------------------------------------------+-------------+-------------+--------------------+------------------+------------------------------+--------------+------------------------------------------------------------------------------------------------------------------------------------------+--------------+---------+-----------------------+-------------------------+-----------------------+-------------+---------+-----------------------------------------------------------------------------------------------------------------------------------------+-------+-----+----+---------+-----+----+-----------+\n",
            "only showing top 10 rows\n",
            "\n"
          ],
          "name": "stdout"
        }
      ]
    },
    {
      "cell_type": "code",
      "metadata": {
        "colab_type": "code",
        "id": "cDh6qEya9Ss2",
        "colab": {}
      },
      "source": [
        "#file_loc = '/content/Amazon_Responded_Oct05.csv'"
      ],
      "execution_count": 0,
      "outputs": []
    },
    {
      "cell_type": "code",
      "metadata": {
        "colab_type": "code",
        "id": "a1NQWYKF9Ss3",
        "colab": {}
      },
      "source": [
        "#TweetData = spark.read.csv(file_loc, inferSchema=True, header=True )"
      ],
      "execution_count": 0,
      "outputs": []
    },
    {
      "cell_type": "code",
      "metadata": {
        "colab_type": "code",
        "outputId": "c033a401-f911-4c08-88a3-ab2d44bc6861",
        "id": "t54jDlHn9Ss4",
        "colab": {
          "base_uri": "https://localhost:8080/",
          "height": 34
        }
      },
      "source": [
        "# Checking the datatype of our Spark RDD file Tweet_sdf\n",
        "print(type(Tweet_sdf))"
      ],
      "execution_count": 0,
      "outputs": [
        {
          "output_type": "stream",
          "text": [
            "<class 'pyspark.sql.dataframe.DataFrame'>\n"
          ],
          "name": "stdout"
        }
      ]
    },
    {
      "cell_type": "code",
      "metadata": {
        "colab_type": "code",
        "id": "B9t76kgV9Ss6",
        "colab": {}
      },
      "source": [
        "# Checking the datatypes of each variable in Tweet_sdf\n",
        "Tweet_sdf.printSchema()"
      ],
      "execution_count": 0,
      "outputs": []
    },
    {
      "cell_type": "code",
      "metadata": {
        "colab_type": "code",
        "id": "EVPyvESj9Ss7",
        "colab": {}
      },
      "source": [
        "# Printing the first 20 rows of Spark RDD Tweet_sdf\n",
        "Tweet_sdf.show()"
      ],
      "execution_count": 0,
      "outputs": []
    },
    {
      "cell_type": "code",
      "metadata": {
        "colab_type": "code",
        "outputId": "bea1830a-9823-41ba-ac42-e70715000038",
        "id": "zpuYemND9Ss9",
        "colab": {
          "base_uri": "https://localhost:8080/",
          "height": 474
        }
      },
      "source": [
        "# Extracting columns 'id_str', 'tweet_created_at', 'user_verified', user_favourites_count', 'retweet_count' and 'text_' for our analysis\n",
        "TweetDataCol = Tweet_sdf.select(Tweet_sdf.id_str, Tweet_sdf.Create_Date, Tweet_sdf.user_verified, Tweet_sdf.user_favourites_count, Tweet_sdf.retweet_count, Tweet_sdf.text_)\n",
        "TweetDataCol.show(20, False)"
      ],
      "execution_count": 10,
      "outputs": [
        {
          "output_type": "stream",
          "text": [
            "+--------------------+-----------+-------------+---------------------+-------------+-------------------------------------------------------------------------------------------------------------------------------------------------------------+\n",
            "|id_str              |Create_Date|user_verified|user_favourites_count|retweet_count|text_                                                                                                                                                        |\n",
            "+--------------------+-----------+-------------+---------------------+-------------+-------------------------------------------------------------------------------------------------------------------------------------------------------------+\n",
            "|'793270689780203520'|Nov 01     |False        |4079                 |0            |@AmazonHelp Can you please DM me? A product I ordered last year never arrived.                                                                               |\n",
            "|'793281386912354304'|Nov 01     |True         |11366                |0            |@SeanEPanjab I'm sorry, we're unable to DM you. Was this order purchased on https://t.co/nUUp5MLhYl, or one of our other sites? ^CL                          |\n",
            "|'793501578766319616'|Nov 01     |False        |4079                 |0            |@AmazonHelp It was purchased on https://t.co/gPWnuSkbwC.                                                                                                     |\n",
            "|'793501657346682880'|Nov 01     |False        |4079                 |0            |@AmazonHelp I am following you now, if it helps to DM.                                                                                                       |\n",
            "|'793502854459879424'|Nov 01     |True         |11366                |0            |@SeanEPanjab Please give us a call/chat so we can look into this order for you: https://t.co/hApLpMlfHN. ^HB                                                 |\n",
            "|'793504235400884224'|Nov 01     |True         |11366                |0            |@SeanEPanjab Without providing any sensitive information, do the order details indicate that the item was ever shipped? ^SW                                  |\n",
            "|'793511847899070465'|Nov 01     |False        |4079                 |0            |@AmazonHelp It was shipped and possibly delivered to my old place of employment. But when I asked for it, no one had it. And so I wonder +                   |\n",
            "|'793511899279208449'|Nov 01     |False        |4079                 |0            |@AmazonHelp if it was lost. I have the order #.                                                                                                              |\n",
            "|'793513446633533440'|Nov 01     |True         |11366                |0            |@SeanEPanjab I'm not able to access account info here. Please reach out by Phone/Chat so we can look at this: https://t.co/EKXRLsnxJu ^GL                    |\n",
            "|'793299404975247360'|Nov 01     |False        |471                  |0            |@JeffBezos @amazonIN @AmazonHelp Tring...Tring...Tring Who's There? Your Suffering Customers from India Mr. Bezos...Get Up and Help!                         |\n",
            "|'793301295255945216'|Nov 01     |True         |11366                |0            |@aakashwangnoo Hi there, kindly write back to us with the details requested so we can proceed further with this.  ^KJ                                        |\n",
            "|'793407430344310785'|Nov 01     |False        |471                  |0            |@AmazonHelp How many times do you want to write back to you guys??? Check the complaints through email regarding  Order 171-1338898-5999507.                 |\n",
            "|'793423313674571776'|Nov 01     |True         |11366                |0            |@aakashwangnoo Hi! We have responded to you here: https://t.co/v4YVCa3rff ^SG(1/2)                                                                           |\n",
            "|'793423314333134850'|Nov 01     |True         |11366                |0            |@aakashwangnoo Please don’t provide your order details as we consider them to be personal info. Our page is visible to public. ^SG(2/2)                      |\n",
            "|'793467086869630977'|Nov 01     |False        |471                  |0            |@AmazonHelp @amazonIN I am providing my order details as even after providing that ur CC Team is repeatedly shooting me cut copy paste email                 |\n",
            "|'793492430666498050'|Nov 01     |True         |11366                |0            |@aakashwangnoo Hi, I believe we have already got back to you on this. Kindly check for the correspondence here: https://t.co/NTkrxpsbHJ ^AB                  |\n",
            "|'793535036213501952'|Nov 01     |False        |471                  |0            |@AmazonHelp @amazonIN @JeffBezos @consumeraction @ConsumerAffairs @ConsumersUnion You want to silent my voice and call that as Answers to me                 |\n",
            "|'793535221329113088'|Nov 01     |False        |471                  |0            |@AmazonHelp @amazonIN @JeffBezos @consumeraction @ConsumerAffairs @ConsumersUnion SHAME on you Team Amazon India...SHAME SHAME SHAME!!!                      |\n",
            "|'793537840533471232'|Nov 01     |False        |471                  |0            |@AmazonHelp @amazonIN @JeffBezos @consumeraction @ConsumerAffairs @ConsumersUnion Please see attachments. These are Amazon responses. https://t.co/W9FcqQVtCC|\n",
            "|'793538125884645376'|Nov 01     |False        |471                  |0            |@AmazonHelp @amazonIN @JeffBezos @consumeraction @ConsumerAffairs @ConsumersUnion and these are my responses. https://t.co/vTwhtX5oBt                        |\n",
            "+--------------------+-----------+-------------+---------------------+-------------+-------------------------------------------------------------------------------------------------------------------------------------------------------------+\n",
            "only showing top 20 rows\n",
            "\n"
          ],
          "name": "stdout"
        }
      ]
    },
    {
      "cell_type": "code",
      "metadata": {
        "colab_type": "code",
        "id": "LcW9Ckr79Ss-",
        "colab": {}
      },
      "source": [
        "# Step 1: Remove the records where “user_verified” is “FALSE”.\n",
        "# Using Filter function to remove the rows with “user_verified” as “FALSE”\n",
        "\n",
        "TweetDatafilter = TweetDataCol.rdd.filter(lambda TweetDataCol:'True' in  TweetDataCol[2])"
      ],
      "execution_count": 0,
      "outputs": []
    },
    {
      "cell_type": "code",
      "metadata": {
        "colab_type": "code",
        "id": "9fdttdpU9StA",
        "colab": {}
      },
      "source": [
        "# Printing 5 rows of TweetDatafilter to check the filter\n",
        "TweetDatafilter.take(5)"
      ],
      "execution_count": 0,
      "outputs": []
    },
    {
      "cell_type": "code",
      "metadata": {
        "colab_type": "code",
        "outputId": "044e9d79-afdc-4eae-a8a8-630448ec8b49",
        "id": "zw-WxvQz9StB",
        "colab": {
          "base_uri": "https://localhost:8080/",
          "height": 34
        }
      },
      "source": [
        "type(TweetDatafilter)"
      ],
      "execution_count": 0,
      "outputs": [
        {
          "output_type": "execute_result",
          "data": {
            "text/plain": [
              "pyspark.rdd.PipelinedRDD"
            ]
          },
          "metadata": {
            "tags": []
          },
          "execution_count": 26
        }
      ]
    },
    {
      "cell_type": "code",
      "metadata": {
        "colab_type": "code",
        "outputId": "e5616585-dc56-4fdd-ea20-7e3c4e660017",
        "id": "y_uUoL_X9StD",
        "colab": {
          "base_uri": "https://localhost:8080/",
          "height": 34
        }
      },
      "source": [
        "#print(type(TweetDatafilter))\n",
        "TweetDatafilter.count()"
      ],
      "execution_count": 13,
      "outputs": [
        {
          "output_type": "execute_result",
          "data": {
            "text/plain": [
              "171898"
            ]
          },
          "metadata": {
            "tags": []
          },
          "execution_count": 13
        }
      ]
    },
    {
      "cell_type": "code",
      "metadata": {
        "colab_type": "code",
        "outputId": "71f8744f-85f4-4213-e1c8-5d903e0ebd4b",
        "id": "relkiBxa9StE",
        "colab": {
          "base_uri": "https://localhost:8080/",
          "height": 34
        }
      },
      "source": [
        "from pyspark.sql import SparkSession\n",
        "from pyspark import SparkContext\n",
        "\n",
        "#sc = SparkContext()\n",
        "#tweets = spark.sparkContext.parallelize(TweetDatafilter.collect())\n",
        "\n",
        "TweetDatafilter = TweetDatafilter.toDF()\n",
        "type(TweetDatafilter)"
      ],
      "execution_count": 14,
      "outputs": [
        {
          "output_type": "execute_result",
          "data": {
            "text/plain": [
              "pyspark.sql.dataframe.DataFrame"
            ]
          },
          "metadata": {
            "tags": []
          },
          "execution_count": 14
        }
      ]
    },
    {
      "cell_type": "code",
      "metadata": {
        "colab_type": "code",
        "id": "IOwimY4R9StF",
        "colab": {}
      },
      "source": [
        "# Task 2: For the remaining records (“user_verified” is “TRUE”), group by created date, and count the number of tweets for each date.\n",
        "\n",
        "import pyspark.sql.functions as f\n",
        "\n",
        "groupeByDate = TweetDatafilter.groupby('Create_Date').count().withColumnRenamed(\"count\",\"tweet_count\")"
      ],
      "execution_count": 0,
      "outputs": []
    },
    {
      "cell_type": "code",
      "metadata": {
        "colab_type": "code",
        "outputId": "c145e293-b73c-482d-f85c-1a60f2fabf84",
        "id": "OBCChcJQ9StH",
        "colab": {
          "base_uri": "https://localhost:8080/",
          "height": 1000
        }
      },
      "source": [
        "groupeByDate.sort((groupeByDate.tweet_count).desc()).show(100)"
      ],
      "execution_count": 16,
      "outputs": [
        {
          "output_type": "stream",
          "text": [
            "+-----------+-----------+\n",
            "|Create_Date|tweet_count|\n",
            "+-----------+-----------+\n",
            "|     Jan 03|       1536|\n",
            "|     Jan 10|       1508|\n",
            "|     Jan 11|       1496|\n",
            "|     Jan 12|       1410|\n",
            "|     Jan 06|       1364|\n",
            "|     Jan 07|       1360|\n",
            "|     Jan 20|       1342|\n",
            "|     Mar 02|       1298|\n",
            "|     Jan 13|       1295|\n",
            "|     Jan 21|       1292|\n",
            "|     Jan 14|       1290|\n",
            "|     Jan 18|       1286|\n",
            "|     Dec 15|       1279|\n",
            "|     Jan 24|       1259|\n",
            "|     Nov 18|       1249|\n",
            "|     Dec 03|       1201|\n",
            "|     Jan 02|       1196|\n",
            "|     Jun 27|       1192|\n",
            "|     Jul 04|       1190|\n",
            "|     Jan 19|       1175|\n",
            "|     Jan 25|       1163|\n",
            "|     Jan 23|       1149|\n",
            "|     Jan 08|       1143|\n",
            "|     Jan 17|       1124|\n",
            "|     May 11|       1120|\n",
            "|     Jul 03|       1112|\n",
            "|     Mar 30|       1109|\n",
            "|     Apr 05|       1089|\n",
            "|     Jan 26|       1083|\n",
            "|     Jan 27|       1080|\n",
            "|     Jun 20|       1074|\n",
            "|     Jan 04|       1071|\n",
            "|     Nov 05|       1058|\n",
            "|     Feb 22|       1058|\n",
            "|     Feb 09|       1054|\n",
            "|     Jun 23|       1045|\n",
            "|     Jun 30|       1040|\n",
            "|     Jan 22|       1024|\n",
            "|     May 03|       1020|\n",
            "|     Mar 08|       1019|\n",
            "|     Jul 29|       1019|\n",
            "|     Mar 29|       1018|\n",
            "|     Apr 18|       1016|\n",
            "|     Jan 16|       1007|\n",
            "|     Jan 15|       1006|\n",
            "|     Jun 07|       1004|\n",
            "|     Jan 09|       1003|\n",
            "|     Feb 02|        987|\n",
            "|     Jun 02|        982|\n",
            "|     Dec 10|        979|\n",
            "|     Dec 13|        979|\n",
            "|     Dec 26|        978|\n",
            "|     Jan 30|        968|\n",
            "|     Feb 28|        968|\n",
            "|     Feb 03|        960|\n",
            "|     Jan 28|        956|\n",
            "|     Jun 28|        955|\n",
            "|     Apr 21|        955|\n",
            "|     Feb 14|        953|\n",
            "|     Nov 29|        952|\n",
            "|     Feb 23|        940|\n",
            "|     Feb 08|        926|\n",
            "|     Jul 05|        925|\n",
            "|     Feb 16|        924|\n",
            "|     Mar 31|        921|\n",
            "|     Feb 15|        920|\n",
            "|     Feb 13|        920|\n",
            "|     Dec 11|        918|\n",
            "|     Jan 31|        914|\n",
            "|     Nov 23|        907|\n",
            "|     Mar 09|        906|\n",
            "|     Feb 01|        902|\n",
            "|     Feb 21|        898|\n",
            "|     Dec 04|        884|\n",
            "|     Feb 10|        880|\n",
            "|     Apr 14|        878|\n",
            "|     Nov 02|        878|\n",
            "|     Feb 27|        876|\n",
            "|     Feb 07|        875|\n",
            "|     Dec 01|        875|\n",
            "|     Apr 01|        872|\n",
            "|     Feb 04|        869|\n",
            "|     Feb 11|        868|\n",
            "|     Jul 16|        864|\n",
            "|     Apr 10|        863|\n",
            "|     May 24|        843|\n",
            "|     Dec 31|        835|\n",
            "|     Feb 24|        835|\n",
            "|     Dec 05|        824|\n",
            "|     Dec 21|        819|\n",
            "|     Jul 19|        817|\n",
            "|     May 29|        816|\n",
            "|     Feb 06|        814|\n",
            "|     May 19|        802|\n",
            "|     Jun 25|        801|\n",
            "|     May 13|        798|\n",
            "|     Jun 13|        792|\n",
            "|     Nov 20|        789|\n",
            "|     Feb 25|        786|\n",
            "|     Jul 11|        783|\n",
            "+-----------+-----------+\n",
            "only showing top 100 rows\n",
            "\n"
          ],
          "name": "stdout"
        }
      ]
    },
    {
      "cell_type": "code",
      "metadata": {
        "colab_type": "code",
        "id": "djPSBoZF9StI",
        "colab": {}
      },
      "source": [
        "# Task 3"
      ],
      "execution_count": 0,
      "outputs": []
    },
    {
      "cell_type": "code",
      "metadata": {
        "colab_type": "code",
        "id": "v5EyedxL9StK",
        "colab": {}
      },
      "source": [
        "# Filter the records with the date of highest number of tweets, i.e., Jan 03\n",
        "\n",
        "Task3Data = TweetDatafilter\n",
        "\n",
        "Task3Data = Task3Data.rdd.filter(lambda Task3Data:'Jan 03' in  Task3Data[1])\n"
      ],
      "execution_count": 0,
      "outputs": []
    },
    {
      "cell_type": "code",
      "metadata": {
        "colab_type": "code",
        "outputId": "cf0037b4-d120-4d09-931f-20556c3c50db",
        "id": "_rJ7mIZH9StM",
        "colab": {
          "base_uri": "https://localhost:8080/",
          "height": 121
        }
      },
      "source": [
        "Task3Data.take(5)"
      ],
      "execution_count": 18,
      "outputs": [
        {
          "output_type": "execute_result",
          "data": {
            "text/plain": [
              "[Row(id_str=\"'816139627270721537'\", Create_Date='Jan 03', user_verified='True', user_favourites_count='11066', retweet_count='0', text_=\"@mcp111 Hey! We'll have this looked into internally. Thanks for your patience. ^HK\"),\n",
              " Row(id_str=\"'816357712732819467'\", Create_Date='Jan 03', user_verified='True', user_favourites_count='11066', retweet_count='0', text_=\"@mcp111 Hi there, you can change the country from the settings. Please reach us via the link provided earlier and we'll help you out, ^VM\"),\n",
              " Row(id_str=\"'816167583263162369'\", Create_Date='Jan 03', user_verified='True', user_favourites_count='11081', retweet_count='0', text_=\"@stevebrowne Hi Steve, sorry to hear this. As we can't view accounts here, please contact here for more options: https://t.co/JzP7hlA23B ^CJ\"),\n",
              " Row(id_str=\"'816326113660174336'\", Create_Date='Jan 03', user_verified='True', user_favourites_count='11066', retweet_count='0', text_=\"@boozysmurf We'd like the chance to look into this w/ you &amp; investigate further. Pls reach out by phone/chat: https://t.co/3pBuw1SV0L ^KD\"),\n",
              " Row(id_str=\"'816359349358575616'\", Create_Date='Jan 03', user_verified='True', user_favourites_count='11066', retweet_count='0', text_='@MeghanSuslak If you have the tracking ID from the shipping label, please contact us by phone or chat here: https://t.co/CYqkdUakWJ ^GL')]"
            ]
          },
          "metadata": {
            "tags": []
          },
          "execution_count": 18
        }
      ]
    },
    {
      "cell_type": "code",
      "metadata": {
        "colab_type": "code",
        "outputId": "661311ce-f4b6-47c2-942f-609ef75c327e",
        "id": "MH_flnHP9StO",
        "colab": {
          "base_uri": "https://localhost:8080/",
          "height": 34
        }
      },
      "source": [
        "Task3Data = Task3Data.toDF()\n",
        "type(Task3Data)"
      ],
      "execution_count": 19,
      "outputs": [
        {
          "output_type": "execute_result",
          "data": {
            "text/plain": [
              "pyspark.sql.dataframe.DataFrame"
            ]
          },
          "metadata": {
            "tags": []
          },
          "execution_count": 19
        }
      ]
    },
    {
      "cell_type": "code",
      "metadata": {
        "colab_type": "code",
        "id": "ykvCSvuw9StP",
        "colab": {}
      },
      "source": [
        "\n",
        "from pyspark.sql.types import IntegerType\n",
        "Task3Data = Task3Data.withColumn(\"user_favourites_count\", Task3Data[\"user_favourites_count\"].cast(IntegerType()))\n",
        "Task3Data = Task3Data.withColumn(\"retweet_count\", Task3Data[\"retweet_count\"].cast(IntegerType()))\n"
      ],
      "execution_count": 0,
      "outputs": []
    },
    {
      "cell_type": "code",
      "metadata": {
        "colab_type": "code",
        "outputId": "e3a1c1f4-6147-4c08-b863-7cccbb5d8686",
        "id": "tza1Az_79StU",
        "colab": {
          "base_uri": "https://localhost:8080/",
          "height": 151
        }
      },
      "source": [
        "Task3Data.printSchema()"
      ],
      "execution_count": 0,
      "outputs": [
        {
          "output_type": "stream",
          "text": [
            "root\n",
            " |-- id_str: string (nullable = true)\n",
            " |-- Create_Date: string (nullable = true)\n",
            " |-- user_verified: string (nullable = true)\n",
            " |-- user_favourites_count: integer (nullable = true)\n",
            " |-- retweet_count: integer (nullable = true)\n",
            " |-- text_: string (nullable = true)\n",
            "\n"
          ],
          "name": "stdout"
        }
      ]
    },
    {
      "cell_type": "code",
      "metadata": {
        "colab_type": "code",
        "id": "yfRRUzYv9StW",
        "colab": {}
      },
      "source": [
        "Task3Data = Task3Data.withColumn('Sum_favourites_retweets', Task3Data.user_favourites_count+ Task3Data.retweet_count)"
      ],
      "execution_count": 0,
      "outputs": []
    },
    {
      "cell_type": "code",
      "metadata": {
        "colab_type": "code",
        "outputId": "ffb82613-4d5d-4e9f-854e-3e786291bc36",
        "id": "tVn9BnxG9StX",
        "colab": {
          "base_uri": "https://localhost:8080/",
          "height": 121
        }
      },
      "source": [
        "Task3Data.take(5)"
      ],
      "execution_count": 22,
      "outputs": [
        {
          "output_type": "execute_result",
          "data": {
            "text/plain": [
              "[Row(id_str=\"'816139627270721537'\", Create_Date='Jan 03', user_verified='True', user_favourites_count=11066, retweet_count=0, text_=\"@mcp111 Hey! We'll have this looked into internally. Thanks for your patience. ^HK\", Sum_favourites_retweets=11066),\n",
              " Row(id_str=\"'816357712732819467'\", Create_Date='Jan 03', user_verified='True', user_favourites_count=11066, retweet_count=0, text_=\"@mcp111 Hi there, you can change the country from the settings. Please reach us via the link provided earlier and we'll help you out, ^VM\", Sum_favourites_retweets=11066),\n",
              " Row(id_str=\"'816167583263162369'\", Create_Date='Jan 03', user_verified='True', user_favourites_count=11081, retweet_count=0, text_=\"@stevebrowne Hi Steve, sorry to hear this. As we can't view accounts here, please contact here for more options: https://t.co/JzP7hlA23B ^CJ\", Sum_favourites_retweets=11081),\n",
              " Row(id_str=\"'816326113660174336'\", Create_Date='Jan 03', user_verified='True', user_favourites_count=11066, retweet_count=0, text_=\"@boozysmurf We'd like the chance to look into this w/ you &amp; investigate further. Pls reach out by phone/chat: https://t.co/3pBuw1SV0L ^KD\", Sum_favourites_retweets=11066),\n",
              " Row(id_str=\"'816359349358575616'\", Create_Date='Jan 03', user_verified='True', user_favourites_count=11066, retweet_count=0, text_='@MeghanSuslak If you have the tracking ID from the shipping label, please contact us by phone or chat here: https://t.co/CYqkdUakWJ ^GL', Sum_favourites_retweets=11066)]"
            ]
          },
          "metadata": {
            "tags": []
          },
          "execution_count": 22
        }
      ]
    },
    {
      "cell_type": "code",
      "metadata": {
        "colab_type": "code",
        "id": "vQwndOxN9StZ",
        "colab": {}
      },
      "source": [
        "from pyspark.sql.functions import desc \n",
        "Task3DataTop100 = Task3Data.sort(desc(\"Sum_favourites_retweets\")).limit(100)"
      ],
      "execution_count": 0,
      "outputs": []
    },
    {
      "cell_type": "code",
      "metadata": {
        "colab_type": "code",
        "outputId": "931f655b-b0e5-494b-ff44-47064d7b839a",
        "id": "qkYPTD4F9Sta",
        "colab": {
          "base_uri": "https://localhost:8080/",
          "height": 454
        }
      },
      "source": [
        "Task3DataTop100.show()"
      ],
      "execution_count": 24,
      "outputs": [
        {
          "output_type": "stream",
          "text": [
            "+--------------------+-----------+-------------+---------------------+-------------+--------------------+-----------------------+\n",
            "|              id_str|Create_Date|user_verified|user_favourites_count|retweet_count|               text_|Sum_favourites_retweets|\n",
            "+--------------------+-----------+-------------+---------------------+-------------+--------------------+-----------------------+\n",
            "|'816356191035068422'|     Jan 03|         True|                13678|            0|@AmazonHelp This ...|                  13678|\n",
            "|'816356580950163457'|     Jan 03|         True|                13678|            0|@AmazonHelp Pleas...|                  13678|\n",
            "|'816296887921836033'|     Jan 03|         True|                11196|            0|@AmazonHelp hi th...|                  11196|\n",
            "|'816083406962434048'|     Jan 03|         True|                11081|            1|@ItsJosshA We alw...|                  11082|\n",
            "|'816095108013654017'|     Jan 03|         True|                11081|            1|@KStefl Sounds li...|                  11082|\n",
            "|'816109446069911554'|     Jan 03|         True|                11081|            1|@Schoey1992 Happy...|                  11082|\n",
            "|'816157517428523008'|     Jan 03|         True|                11081|            1|@ratbones666 You ...|                  11082|\n",
            "|'816312666553720832'|     Jan 03|         True|                11081|            1|@ZeSaiyan We'll c...|                  11082|\n",
            "|'816104253395705859'|     Jan 03|         True|                11081|            0|@kbsarfaraz Also,...|                  11081|\n",
            "|'816104252800167937'|     Jan 03|         True|                11081|            0|@kckvn Hi, sorry ...|                  11081|\n",
            "|'816104252842147840'|     Jan 03|         True|                11081|            0|@kbsarfaraz Hi Sa...|                  11081|\n",
            "|'816104544593657856'|     Jan 03|         True|                11081|            0|@kckvn Kindly dro...|                  11081|\n",
            "|'816274024502362112'|     Jan 03|         True|                11081|            0|@anki_010 Hey! Th...|                  11081|\n",
            "|'816104663351181312'|     Jan 03|         True|                11081|            0|@kckvn Please don...|                  11081|\n",
            "|'816309762426081280'|     Jan 03|         True|                11081|            0|@NeilRay82 I'm ho...|                  11081|\n",
            "|'816107428186091520'|     Jan 03|         True|                11081|            0|@kckvn Hey, thank...|                  11081|\n",
            "|'816239543284334592'|     Jan 03|         True|                11081|            0|@twatts_ You have...|                  11081|\n",
            "|'816107428819464200'|     Jan 03|         True|                11081|            0|@kckvn correspond...|                  11081|\n",
            "|'816262334054363136'|     Jan 03|         True|                11081|            0|@twatts_ If it ha...|                  11081|\n",
            "|'816106918859182081'|     Jan 03|         True|                11081|            0|@yarrhanna Oh no!...|                  11081|\n",
            "+--------------------+-----------+-------------+---------------------+-------------+--------------------+-----------------------+\n",
            "only showing top 20 rows\n",
            "\n"
          ],
          "name": "stdout"
        }
      ]
    },
    {
      "cell_type": "code",
      "metadata": {
        "colab_type": "code",
        "outputId": "78fa5468-d5e2-4f11-f2ff-4bbe9ea87927",
        "id": "4EAtdlzi9Stb",
        "colab": {
          "base_uri": "https://localhost:8080/",
          "height": 101
        }
      },
      "source": [
        "Task3Data_tweets = Task3DataTop100.select(\"text_\").rdd.flatMap(lambda x: x).collect()\n",
        "Task3Data_tweets[0:5]"
      ],
      "execution_count": 25,
      "outputs": [
        {
          "output_type": "execute_result",
          "data": {
            "text/plain": [
              "['@AmazonHelp This is becoming a joke now. I need to speak to a supervisor. Your colleagues keep trying to put me through then cutting me off',\n",
              " '@AmazonHelp Please don’t suggest I call you again. You need to arrange for a supervisor to call me asap. DM please',\n",
              " \"@AmazonHelp hi there, seeing a monthly charge on my CC from Amazon but can't find any subscriptions in my account. help?\",\n",
              " '@ItsJosshA We always aim to deliver by the date given in your confirmation email. Have we missed that date? Any update in tracking?  ^NF',\n",
              " '@KStefl Sounds like you know what to add to your Halloween playlist for this year! ^BV']"
            ]
          },
          "metadata": {
            "tags": []
          },
          "execution_count": 25
        }
      ]
    },
    {
      "cell_type": "code",
      "metadata": {
        "colab_type": "code",
        "id": "ovXB7GPK9Std",
        "colab": {}
      },
      "source": [
        "# Creating Spark Context\n",
        "from pyspark import SparkContext\n",
        "sc = SparkContext.getOrCreate()"
      ],
      "execution_count": 0,
      "outputs": []
    },
    {
      "cell_type": "code",
      "metadata": {
        "colab_type": "code",
        "outputId": "5810e772-229f-4745-cb09-7296dc07e739",
        "id": "YQOcTWjZ9Stf",
        "colab": {
          "base_uri": "https://localhost:8080/",
          "height": 101
        }
      },
      "source": [
        "# Reading 'tweet' to a RDD object using spark context\n",
        "tweet_rdd = sc.parallelize(Task3Data_tweets)\n",
        "tweet_rdd.take(5)"
      ],
      "execution_count": 27,
      "outputs": [
        {
          "output_type": "execute_result",
          "data": {
            "text/plain": [
              "['@AmazonHelp This is becoming a joke now. I need to speak to a supervisor. Your colleagues keep trying to put me through then cutting me off',\n",
              " '@AmazonHelp Please don’t suggest I call you again. You need to arrange for a supervisor to call me asap. DM please',\n",
              " \"@AmazonHelp hi there, seeing a monthly charge on my CC from Amazon but can't find any subscriptions in my account. help?\",\n",
              " '@ItsJosshA We always aim to deliver by the date given in your confirmation email. Have we missed that date? Any update in tracking?  ^NF',\n",
              " '@KStefl Sounds like you know what to add to your Halloween playlist for this year! ^BV']"
            ]
          },
          "metadata": {
            "tags": []
          },
          "execution_count": 27
        }
      ]
    },
    {
      "cell_type": "code",
      "metadata": {
        "colab_type": "code",
        "id": "62rSqkJe9Stg",
        "colab": {}
      },
      "source": [
        "import string\n",
        "import re\n",
        "\n",
        "def clean_tweet(x):\n",
        "  \n",
        "  # Delete all the URLs in the tweets\n",
        "  text00 = re.sub(r'www\\S+', '', x)\n",
        "  text01 = re.sub(r'http\\S+', '', text00)\n",
        "  \n",
        "  # Delete all the numbers in the tweets\n",
        "  text1 = ''.join([i for i in text01 if not i.isdigit()])\n",
        "  \n",
        "  # Delete all the punctuation marks in the tweets\n",
        "  text2 = text1.translate(str.maketrans('','',string.punctuation))\n",
        "  \n",
        "  # Convert text to LOWERCASE\n",
        "  text3 = text2.lower()\n",
        "\n",
        "  return text3"
      ],
      "execution_count": 0,
      "outputs": []
    },
    {
      "cell_type": "code",
      "metadata": {
        "colab_type": "code",
        "outputId": "9036d1b3-6ede-4514-fbf3-1f7eb02c06fc",
        "id": "lvCvC2eu9Sth",
        "colab": {
          "base_uri": "https://localhost:8080/",
          "height": 185
        }
      },
      "source": [
        "# Cleaning the text of tweets: 1. Removing URLs, 2. Removing non-alphabets, 3. Lowercase \n",
        "clean_tweet_rdd = tweet_rdd.map(clean_tweet)\n",
        "clean_tweet_rdd.take(10)"
      ],
      "execution_count": 29,
      "outputs": [
        {
          "output_type": "execute_result",
          "data": {
            "text/plain": [
              "['amazonhelp this is becoming a joke now i need to speak to a supervisor your colleagues keep trying to put me through then cutting me off',\n",
              " 'amazonhelp please don’t suggest i call you again you need to arrange for a supervisor to call me asap dm please',\n",
              " 'amazonhelp hi there seeing a monthly charge on my cc from amazon but cant find any subscriptions in my account help',\n",
              " 'itsjossha we always aim to deliver by the date given in your confirmation email have we missed that date any update in tracking  nf',\n",
              " 'kstefl sounds like you know what to add to your halloween playlist for this year bv',\n",
              " 'schoey happy birthday matt friendsforever friendshipgoals jo',\n",
              " 'ratbones you so fancy you already knooow ep',\n",
              " 'zesaiyan well certainly try to get it to you danny has the tracking updated as out for delivery here  hb',\n",
              " 'kbsarfaraz also please dont provide the order details as we consider it personal information ht ',\n",
              " 'kckvn hi sorry about that being a public platform well not be able to access your account from here  mj']"
            ]
          },
          "metadata": {
            "tags": []
          },
          "execution_count": 29
        }
      ]
    },
    {
      "cell_type": "code",
      "metadata": {
        "colab_type": "code",
        "outputId": "fd8d7f35-e510-480a-81bc-21d3fa0fd613",
        "id": "c6VMdY_o9Sti",
        "colab": {
          "base_uri": "https://localhost:8080/",
          "height": 34
        }
      },
      "source": [
        "# Building Map function\n",
        "map = clean_tweet_rdd.flatMap(lambda line: line.split(\" \")).map(lambda word: (word, 1))\n",
        "map.take(5)"
      ],
      "execution_count": 30,
      "outputs": [
        {
          "output_type": "execute_result",
          "data": {
            "text/plain": [
              "[('amazonhelp', 1), ('this', 1), ('is', 1), ('becoming', 1), ('a', 1)]"
            ]
          },
          "metadata": {
            "tags": []
          },
          "execution_count": 30
        }
      ]
    },
    {
      "cell_type": "code",
      "metadata": {
        "colab_type": "code",
        "outputId": "e10c976e-7faf-4a15-adae-0ed4af1c61d5",
        "id": "UvPk2CwG9Stl",
        "colab": {
          "base_uri": "https://localhost:8080/",
          "height": 34
        }
      },
      "source": [
        "# Building Reduce function\n",
        "counts = map.reduceByKey(lambda a, b: a + b)\n",
        "counts.take(5)"
      ],
      "execution_count": 31,
      "outputs": [
        {
          "output_type": "execute_result",
          "data": {
            "text/plain": [
              "[('this', 25), ('is', 15), ('becoming', 1), ('joke', 1), ('now', 2)]"
            ]
          },
          "metadata": {
            "tags": []
          },
          "execution_count": 31
        }
      ]
    },
    {
      "cell_type": "code",
      "metadata": {
        "colab_type": "code",
        "outputId": "b0365791-6320-41ed-9700-4d18a6d1089e",
        "id": "8qQ9y04P9Stn",
        "colab": {
          "base_uri": "https://localhost:8080/",
          "height": 34
        }
      },
      "source": [
        "# Total number of distinct words\n",
        "print(len(counts.collect()))"
      ],
      "execution_count": 32,
      "outputs": [
        {
          "output_type": "stream",
          "text": [
            "497\n"
          ],
          "name": "stdout"
        }
      ]
    },
    {
      "cell_type": "code",
      "metadata": {
        "colab_type": "code",
        "id": "SUEncX1b9Sto",
        "colab": {
          "base_uri": "https://localhost:8080/",
          "height": 1000
        },
        "outputId": "aff4f17c-509b-4bb4-cf1e-382cd477502d"
      },
      "source": [
        "# Getting the Top 10 most popular words and their words frequency\n",
        "# Sorting 'counts' in descending order and getting the first 10 elements\n",
        "countsSorted = counts.takeOrdered(497) # Conditioned on that number of characters in the string should be at least 1\n",
        "countsSorted"
      ],
      "execution_count": 33,
      "outputs": [
        {
          "output_type": "execute_result",
          "data": {
            "text/plain": [
              "[('', 79),\n",
              " ('a', 20),\n",
              " ('ab', 1),\n",
              " ('able', 4),\n",
              " ('about', 4),\n",
              " ('above', 1),\n",
              " ('access', 2),\n",
              " ('account', 6),\n",
              " ('accounts', 1),\n",
              " ('add', 1),\n",
              " ('additional', 1),\n",
              " ('address', 1),\n",
              " ('af', 7),\n",
              " ('after', 3),\n",
              " ('again', 3),\n",
              " ('aim', 3),\n",
              " ('ajfus', 1),\n",
              " ('ak', 3),\n",
              " ('already', 1),\n",
              " ('also', 3),\n",
              " ('always', 2),\n",
              " ('am', 2),\n",
              " ('amazon', 2),\n",
              " ('amazonhelp', 3),\n",
              " ('amp', 2),\n",
              " ('an', 3),\n",
              " ('and', 10),\n",
              " ('anki', 1),\n",
              " ('another', 1),\n",
              " ('any', 12),\n",
              " ('anything', 2),\n",
              " ('aoamlibrarian', 1),\n",
              " ('apologies', 3),\n",
              " ('app', 1),\n",
              " ('appreciate', 1),\n",
              " ('ar', 10),\n",
              " ('are', 3),\n",
              " ('armchairdj', 1),\n",
              " ('arrange', 1),\n",
              " ('arrive', 7),\n",
              " ('arrived', 1),\n",
              " ('as', 4),\n",
              " ('asap', 1),\n",
              " ('asinalexander', 2),\n",
              " ('assist', 2),\n",
              " ('assistance', 2),\n",
              " ('at', 3),\n",
              " ('available', 1),\n",
              " ('bank', 1),\n",
              " ('be', 10),\n",
              " ('becoming', 1),\n",
              " ('been', 1),\n",
              " ('before', 1),\n",
              " ('being', 1),\n",
              " ('below', 1),\n",
              " ('better', 1),\n",
              " ('birthday', 1),\n",
              " ('bourge', 2),\n",
              " ('briancranfill', 2),\n",
              " ('browsers', 1),\n",
              " ('business', 5),\n",
              " ('but', 2),\n",
              " ('bv', 4),\n",
              " ('by', 7),\n",
              " ('ca', 1),\n",
              " ('call', 4),\n",
              " ('can', 18),\n",
              " ('cant', 2),\n",
              " ('care', 1),\n",
              " ('carriers', 3),\n",
              " ('case', 1),\n",
              " ('causing', 1),\n",
              " ('cc', 1),\n",
              " ('center', 2),\n",
              " ('certainly', 1),\n",
              " ('chance', 1),\n",
              " ('charge', 1),\n",
              " ('chat', 5),\n",
              " ('check', 7),\n",
              " ('checkout', 1),\n",
              " ('cj', 2),\n",
              " ('cl', 5),\n",
              " ('closer', 3),\n",
              " ('cocolf', 1),\n",
              " ('colleagues', 1),\n",
              " ('concern', 1),\n",
              " ('concerns', 1),\n",
              " ('confirm', 1),\n",
              " ('confirmation', 1),\n",
              " ('connorbring', 1),\n",
              " ('consider', 3),\n",
              " ('contact', 11),\n",
              " ('contacted', 2),\n",
              " ('correspondence', 3),\n",
              " ('could', 1),\n",
              " ('credit', 1),\n",
              " ('credited', 1),\n",
              " ('cs', 1),\n",
              " ('current', 1),\n",
              " ('cutting', 1),\n",
              " ('danny', 1),\n",
              " ('date', 8),\n",
              " ('date\\r\\nku', 1),\n",
              " ('dates', 1),\n",
              " ('day', 6),\n",
              " ('days', 2),\n",
              " ('daysplease', 1),\n",
              " ('delay', 3),\n",
              " ('delayed', 1),\n",
              " ('delays', 1),\n",
              " ('deliver', 5),\n",
              " ('delivered', 4),\n",
              " ('deliveries', 2),\n",
              " ('delivery', 10),\n",
              " ('details', 10),\n",
              " ('did', 1),\n",
              " ('different', 1),\n",
              " ('direct', 1),\n",
              " ('disappointment', 1),\n",
              " ('dm', 1),\n",
              " ('do', 4),\n",
              " ('does', 1),\n",
              " ('doesnt', 3),\n",
              " ('done', 1),\n",
              " ('dont', 6),\n",
              " ('don’t', 1),\n",
              " ('dragonfyre', 1),\n",
              " ('drop', 1),\n",
              " ('early', 1),\n",
              " ('ecentricat', 1),\n",
              " ('edthered', 1),\n",
              " ('elaborate', 1),\n",
              " ('elapsed', 1),\n",
              " ('em', 1),\n",
              " ('email', 9),\n",
              " ('en', 6),\n",
              " ('end', 1),\n",
              " ('enough', 1),\n",
              " ('ep', 4),\n",
              " ('est', 1),\n",
              " ('estimaded', 1),\n",
              " ('estimated', 1),\n",
              " ('excessive', 1),\n",
              " ('expected', 1),\n",
              " ('experience', 2),\n",
              " ('expires', 1),\n",
              " ('extra', 1),\n",
              " ('facing', 1),\n",
              " ('fancy', 1),\n",
              " ('feedback', 4),\n",
              " ('feel', 2),\n",
              " ('fill', 4),\n",
              " ('find', 2),\n",
              " ('follow', 2),\n",
              " ('following', 1),\n",
              " ('for', 34),\n",
              " ('form', 3),\n",
              " ('forwarded', 1),\n",
              " ('friendsforever', 1),\n",
              " ('friendshipgoals', 1),\n",
              " ('from', 3),\n",
              " ('frustration', 3),\n",
              " ('fulfillment', 2),\n",
              " ('further', 2),\n",
              " ('get', 6),\n",
              " ('gice', 1),\n",
              " ('give', 2),\n",
              " ('given', 2),\n",
              " ('glad', 1),\n",
              " ('goes', 1),\n",
              " ('going', 1),\n",
              " ('good', 1),\n",
              " ('greedyguzzler', 2),\n",
              " ('greensparkletme', 1),\n",
              " ('halloween', 1),\n",
              " ('handle', 1),\n",
              " ('happy', 5),\n",
              " ('has', 2),\n",
              " ('hasnt', 2),\n",
              " ('have', 11),\n",
              " ('havent', 1),\n",
              " ('hb', 2),\n",
              " ('hear', 3),\n",
              " ('hello', 1),\n",
              " ('help', 10),\n",
              " ('helpsr', 1),\n",
              " ('here', 29),\n",
              " ('hesitate', 1),\n",
              " ('hey', 6),\n",
              " ('heypardeep', 1),\n",
              " ('hi', 14),\n",
              " ('hk', 3),\n",
              " ('hoping', 1),\n",
              " ('hours', 4),\n",
              " ('how', 1),\n",
              " ('however', 1),\n",
              " ('ht', 1),\n",
              " ('i', 6),\n",
              " ('iamshp', 1),\n",
              " ('iathul', 2),\n",
              " ('id', 3),\n",
              " ('if', 17),\n",
              " ('iiirdi', 9),\n",
              " ('ikumarvinod', 6),\n",
              " ('ill', 1),\n",
              " ('im', 11),\n",
              " ('improve', 1),\n",
              " ('in', 17),\n",
              " ('inconvenience', 1),\n",
              " ('indicate', 1),\n",
              " ('info', 1),\n",
              " ('information', 6),\n",
              " ('internet', 1),\n",
              " ('into', 8),\n",
              " ('investigate', 1),\n",
              " ('is', 15),\n",
              " ('issue', 4),\n",
              " ('issues', 1),\n",
              " ('it', 10),\n",
              " ('its', 4),\n",
              " ('itsjossha', 1),\n",
              " ('ittakesii', 1),\n",
              " ('jeansgrey', 1),\n",
              " ('jo', 5),\n",
              " ('joeygeorge', 2),\n",
              " ('joke', 1),\n",
              " ('joyfulneesh', 1),\n",
              " ('jtreadway', 1),\n",
              " ('just', 1),\n",
              " ('kamranhusain', 1),\n",
              " ('kbsarfaraz', 2),\n",
              " ('kckvn', 5),\n",
              " ('keep', 6),\n",
              " ('keeping', 1),\n",
              " ('kindly', 5),\n",
              " ('kmaccrory', 1),\n",
              " ('knooow', 1),\n",
              " ('know', 10),\n",
              " ('kstefl', 1),\n",
              " ('kyleschowalker', 1),\n",
              " ('late', 7),\n",
              " ('lbr', 8),\n",
              " ('let', 6),\n",
              " ('letting', 1),\n",
              " ('like', 10),\n",
              " ('link', 7),\n",
              " ('linkca', 1),\n",
              " ('listed', 5),\n",
              " ('look', 9),\n",
              " ('looking', 2),\n",
              " ('m', 1),\n",
              " ('main', 1),\n",
              " ('majerus', 1),\n",
              " ('malytwotails', 1),\n",
              " ('manufacturer', 1),\n",
              " ('martianman', 1),\n",
              " ('matt', 1),\n",
              " ('may', 3),\n",
              " ('me', 3),\n",
              " ('meant', 1),\n",
              " ('mentioned', 1),\n",
              " ('menu', 1),\n",
              " ('might', 1),\n",
              " ('missed', 3),\n",
              " ('mj', 6),\n",
              " ('mm', 1),\n",
              " ('moment', 2),\n",
              " ('moniza', 2),\n",
              " ('monthly', 1),\n",
              " ('more', 3),\n",
              " ('most', 1),\n",
              " ('mrdctaylor', 1),\n",
              " ('my', 6),\n",
              " ('mylyfesongz', 1),\n",
              " ('naijadrew', 1),\n",
              " ('need', 5),\n",
              " ('neilray', 1),\n",
              " ('new', 3),\n",
              " ('next', 3),\n",
              " ('nf', 2),\n",
              " ('no', 1),\n",
              " ('normally', 1),\n",
              " ('not', 4),\n",
              " ('now', 2),\n",
              " ('number', 1),\n",
              " ('of', 1),\n",
              " ('off', 1),\n",
              " ('og', 1),\n",
              " ('oh', 1),\n",
              " ('on', 7),\n",
              " ('once', 3),\n",
              " ('only', 1),\n",
              " ('options', 12),\n",
              " ('or', 8),\n",
              " ('order', 14),\n",
              " ('orders', 3),\n",
              " ('origin', 1),\n",
              " ('other', 3),\n",
              " ('our', 7),\n",
              " ('out', 10),\n",
              " ('package', 2),\n",
              " ('packages', 1),\n",
              " ('packaging', 2),\n",
              " ('page', 5),\n",
              " ('palinawali', 1),\n",
              " ('parcel', 1),\n",
              " ('parcels', 2),\n",
              " ('particular', 1),\n",
              " ('past', 1),\n",
              " ('pay', 1),\n",
              " ('payment', 1),\n",
              " ('personal', 3),\n",
              " ('phone', 4),\n",
              " ('phototony', 2),\n",
              " ('pick', 1),\n",
              " ('pk', 2),\n",
              " ('platform', 1),\n",
              " ('playlist', 1),\n",
              " ('please', 26),\n",
              " ('pls', 4),\n",
              " ('pm', 2),\n",
              " ('policyhowto', 1),\n",
              " ('poor', 2),\n",
              " ('posted', 5),\n",
              " ('posting', 1),\n",
              " ('proceed', 1),\n",
              " ('process', 2),\n",
              " ('processed', 1),\n",
              " ('product', 2),\n",
              " ('provide', 4),\n",
              " ('provided', 2),\n",
              " ('provider', 1),\n",
              " ('public', 3),\n",
              " ('put', 1),\n",
              " ('questions', 1),\n",
              " ('quick', 1),\n",
              " ('ra', 1),\n",
              " ('ratbones', 1),\n",
              " ('reach', 8),\n",
              " ('reached', 1),\n",
              " ('reaches', 1),\n",
              " ('reaching', 1),\n",
              " ('received', 5),\n",
              " ('recommend', 3),\n",
              " ('refer', 1),\n",
              " ('refers', 1),\n",
              " ('refund', 6),\n",
              " ('refunds', 1),\n",
              " ('registered', 1),\n",
              " ('regret', 1),\n",
              " ('report', 3),\n",
              " ('reporting', 1),\n",
              " ('request', 2),\n",
              " ('requested', 1),\n",
              " ('response', 1),\n",
              " ('return', 1),\n",
              " ('returned', 2),\n",
              " ('returnreplacement', 1),\n",
              " ('returns', 1),\n",
              " ('revert', 2),\n",
              " ('review', 4),\n",
              " ('rishi', 1),\n",
              " ('rishirv', 1),\n",
              " ('rm', 4),\n",
              " ('rottenartist', 1),\n",
              " ('same', 2),\n",
              " ('sanjay', 1),\n",
              " ('saratweetshere', 1),\n",
              " ('sarfaraz', 1),\n",
              " ('say', 1),\n",
              " ('sbronste', 1),\n",
              " ('scan', 1),\n",
              " ('schoey', 1),\n",
              " ('schoolboyserg', 1),\n",
              " ('secure', 1),\n",
              " ('see', 3),\n",
              " ('seeing', 1),\n",
              " ('select', 3),\n",
              " ('selecting', 1),\n",
              " ('selection', 1),\n",
              " ('seller', 1),\n",
              " ('sent', 2),\n",
              " ('service', 2),\n",
              " ('set', 1),\n",
              " ('sg', 1),\n",
              " ('sh', 1),\n",
              " ('share', 4),\n",
              " ('shipping', 2),\n",
              " ('ships', 1),\n",
              " ('shortly', 2),\n",
              " ('shout', 1),\n",
              " ('show', 2),\n",
              " ('similar', 1),\n",
              " ('since', 1),\n",
              " ('sirloin', 1),\n",
              " ('site', 1),\n",
              " ('sj', 8),\n",
              " ('skip', 1),\n",
              " ('so', 4),\n",
              " ('some', 1),\n",
              " ('soon', 3),\n",
              " ('sorry', 21),\n",
              " ('sorted', 1),\n",
              " ('sounds', 2),\n",
              " ('speak', 1),\n",
              " ('specific', 1),\n",
              " ('status', 1),\n",
              " ('step', 1),\n",
              " ('steps', 5),\n",
              " ('steve', 1),\n",
              " ('stevebrowne', 1),\n",
              " ('still', 1),\n",
              " ('stuff', 2),\n",
              " ('stuffgtshipment', 1),\n",
              " ('subscriptions', 1),\n",
              " ('suggest', 1),\n",
              " ('supervisor', 2),\n",
              " ('sure', 1),\n",
              " ('survey', 1),\n",
              " ('sv', 4),\n",
              " ('take', 6),\n",
              " ('tamarastampone', 1),\n",
              " ('td', 1),\n",
              " ('tell', 2),\n",
              " ('textbook', 1),\n",
              " ('thanks', 6),\n",
              " ('that', 10),\n",
              " ('thats', 1),\n",
              " ('the', 60),\n",
              " ('then', 5),\n",
              " ('there', 2),\n",
              " ('these', 1),\n",
              " ('they', 1),\n",
              " ('this', 25),\n",
              " ('through', 3),\n",
              " ('time', 4),\n",
              " ('to', 62),\n",
              " ('tomorrow', 1),\n",
              " ('touch', 3),\n",
              " ('track', 1),\n",
              " ('tracking', 6),\n",
              " ('transit', 1),\n",
              " ('tried', 2),\n",
              " ('trouble', 2),\n",
              " ('try', 2),\n",
              " ('trying', 1),\n",
              " ('twatts', 2),\n",
              " ('twitter', 2),\n",
              " ('typically', 5),\n",
              " ('understand', 2),\n",
              " ('understanding', 1),\n",
              " ('until', 2),\n",
              " ('unusual', 1),\n",
              " ('up', 3),\n",
              " ('update', 3),\n",
              " ('updated', 2),\n",
              " ('updates', 1),\n",
              " ('us', 36),\n",
              " ('use', 2),\n",
              " ('using', 5),\n",
              " ('usually', 1),\n",
              " ('valid', 1),\n",
              " ('very', 1),\n",
              " ('via', 4),\n",
              " ('view', 1),\n",
              " ('visible', 2),\n",
              " ('want', 2),\n",
              " ('way', 2),\n",
              " ('we', 30),\n",
              " ('wed', 7),\n",
              " ('welcome', 3),\n",
              " ('well', 6),\n",
              " ('were', 4),\n",
              " ('what', 5),\n",
              " ('whats', 3),\n",
              " ('when', 5),\n",
              " ('wheres', 3),\n",
              " ('while', 1),\n",
              " ('will', 10),\n",
              " ('with', 10),\n",
              " ('within', 3),\n",
              " ('without', 1),\n",
              " ('woody', 1),\n",
              " ('working', 1),\n",
              " ('would', 2),\n",
              " ('yarrhanna', 2),\n",
              " ('year', 2),\n",
              " ('you', 46),\n",
              " ('youd', 1),\n",
              " ('youll', 1),\n",
              " ('your', 33),\n",
              " ('youre', 5),\n",
              " ('youve', 1),\n",
              " ('yp', 1),\n",
              " ('zesaiyan', 1),\n",
              " ('zlgreen', 4),\n",
              " ('👍bv', 1)]"
            ]
          },
          "metadata": {
            "tags": []
          },
          "execution_count": 33
        }
      ]
    },
    {
      "cell_type": "code",
      "metadata": {
        "colab_type": "code",
        "outputId": "315a45a5-474a-42af-b90b-c5f2af5bf58e",
        "id": "-Nzg2dWa9Stp",
        "colab": {
          "base_uri": "https://localhost:8080/",
          "height": 430
        }
      },
      "source": [
        "## Converting the final Map-reduce output into a data frame\n",
        "import pandas as pd\n",
        "\n",
        "# Creating a dataframe object from listoftuples\n",
        "MapReduceOutput = pd.DataFrame(countsSorted, columns = ['Tweet_Word' , \"Frequency\"])\n",
        "\n",
        "print(MapReduceOutput)\n",
        "\n",
        "MapReduceOutput.head()\n"
      ],
      "execution_count": 34,
      "outputs": [
        {
          "output_type": "stream",
          "text": [
            "    Tweet_Word  Frequency\n",
            "0                      79\n",
            "1            a         20\n",
            "2           ab          1\n",
            "3         able          4\n",
            "4        about          4\n",
            "..         ...        ...\n",
            "492      youve          1\n",
            "493         yp          1\n",
            "494   zesaiyan          1\n",
            "495    zlgreen          4\n",
            "496        👍bv          1\n",
            "\n",
            "[497 rows x 2 columns]\n"
          ],
          "name": "stdout"
        },
        {
          "output_type": "execute_result",
          "data": {
            "text/html": [
              "<div>\n",
              "<style scoped>\n",
              "    .dataframe tbody tr th:only-of-type {\n",
              "        vertical-align: middle;\n",
              "    }\n",
              "\n",
              "    .dataframe tbody tr th {\n",
              "        vertical-align: top;\n",
              "    }\n",
              "\n",
              "    .dataframe thead th {\n",
              "        text-align: right;\n",
              "    }\n",
              "</style>\n",
              "<table border=\"1\" class=\"dataframe\">\n",
              "  <thead>\n",
              "    <tr style=\"text-align: right;\">\n",
              "      <th></th>\n",
              "      <th>Tweet_Word</th>\n",
              "      <th>Frequency</th>\n",
              "    </tr>\n",
              "  </thead>\n",
              "  <tbody>\n",
              "    <tr>\n",
              "      <th>0</th>\n",
              "      <td></td>\n",
              "      <td>79</td>\n",
              "    </tr>\n",
              "    <tr>\n",
              "      <th>1</th>\n",
              "      <td>a</td>\n",
              "      <td>20</td>\n",
              "    </tr>\n",
              "    <tr>\n",
              "      <th>2</th>\n",
              "      <td>ab</td>\n",
              "      <td>1</td>\n",
              "    </tr>\n",
              "    <tr>\n",
              "      <th>3</th>\n",
              "      <td>able</td>\n",
              "      <td>4</td>\n",
              "    </tr>\n",
              "    <tr>\n",
              "      <th>4</th>\n",
              "      <td>about</td>\n",
              "      <td>4</td>\n",
              "    </tr>\n",
              "  </tbody>\n",
              "</table>\n",
              "</div>"
            ],
            "text/plain": [
              "  Tweet_Word  Frequency\n",
              "0                    79\n",
              "1          a         20\n",
              "2         ab          1\n",
              "3       able          4\n",
              "4      about          4"
            ]
          },
          "metadata": {
            "tags": []
          },
          "execution_count": 34
        }
      ]
    },
    {
      "cell_type": "code",
      "metadata": {
        "colab_type": "code",
        "id": "09QujBsn9Stq",
        "colab": {}
      },
      "source": [
        "MapReduceOutput.to_excel(r\"C:\\Users\\ishre\\Desktop\\IDS 561\\Assignments\\Assignment 2\\Ass2_Mapreduce.xlsx\")"
      ],
      "execution_count": 0,
      "outputs": []
    },
    {
      "cell_type": "code",
      "metadata": {
        "colab_type": "code",
        "id": "XlW90bBY9Str",
        "colab": {}
      },
      "source": [
        ""
      ],
      "execution_count": 0,
      "outputs": []
    },
    {
      "cell_type": "code",
      "metadata": {
        "colab_type": "code",
        "id": "QsGk9L5g9Sts",
        "colab": {}
      },
      "source": [
        "#Part 2"
      ],
      "execution_count": 0,
      "outputs": []
    },
    {
      "cell_type": "code",
      "metadata": {
        "id": "dxHblBOmANZ0",
        "colab_type": "code",
        "colab": {}
      },
      "source": [
        "#Renaming id_str column to tweet_id in Tweet_sdf to remove ambiguity\n",
        "\n",
        "Tweet_sdf = Tweet_sdf.withColumnRenamed(\"id_str\", \"tweet_id\")"
      ],
      "execution_count": 0,
      "outputs": []
    },
    {
      "cell_type": "code",
      "metadata": {
        "colab_type": "code",
        "outputId": "5d28b22e-a1ec-4016-af53-36e4acc450fd",
        "id": "-AeNrZVj9Stw",
        "colab": {
          "base_uri": "https://localhost:8080/",
          "height": 34
        }
      },
      "source": [
        "#Importing the data as a pandas dataframe and printing its shape\n",
        "\n",
        "import pandas as pd\n",
        "find_text = pd.read_csv(\"/content/find_text.csv\") \n",
        "find_text.head()\n",
        "find_text.shape"
      ],
      "execution_count": 41,
      "outputs": [
        {
          "output_type": "execute_result",
          "data": {
            "text/plain": [
              "(53928, 2)"
            ]
          },
          "metadata": {
            "tags": []
          },
          "execution_count": 41
        }
      ]
    },
    {
      "cell_type": "code",
      "metadata": {
        "colab_type": "code",
        "id": "OL-ZXYOV9St1",
        "colab": {
          "base_uri": "https://localhost:8080/",
          "height": 286
        },
        "outputId": "85f24663-5fbb-4843-8ce9-3838e4eee45e"
      },
      "source": [
        "# Converting Pandas Dataframe into Spark RDD Dataframe\n",
        "\n",
        "find_text = find_text.astype(str) # Converting pandas df to string first\n",
        "find_text_sdf = spark.createDataFrame(find_text)\n",
        "find_text_sdf.show(10, False) # False allows us to show entire content of the columns"
      ],
      "execution_count": 39,
      "outputs": [
        {
          "output_type": "stream",
          "text": [
            "+--------------------+----+\n",
            "|id_str              |text|\n",
            "+--------------------+----+\n",
            "|'793270689780203520'|nan |\n",
            "|'793281386912354304'|nan |\n",
            "|'793299404975247360'|nan |\n",
            "|'793301295255945216'|nan |\n",
            "|'793315815411978240'|nan |\n",
            "|'793322306848292864'|nan |\n",
            "|'793322433625415680'|nan |\n",
            "|'793365409047023616'|nan |\n",
            "|'793369654878232577'|nan |\n",
            "|'793375905280393216'|nan |\n",
            "+--------------------+----+\n",
            "only showing top 10 rows\n",
            "\n"
          ],
          "name": "stdout"
        }
      ]
    },
    {
      "cell_type": "code",
      "metadata": {
        "colab_type": "code",
        "id": "6T_GOSlC9St2",
        "colab": {
          "base_uri": "https://localhost:8080/",
          "height": 474
        },
        "outputId": "95ddc5b0-264c-4f20-a7f3-d2f100ebdcc8"
      },
      "source": [
        "#Joining find_text_sdf with Tweet_sdf according to id_str\n",
        "\n",
        "left_join = find_text_sdf.join(Tweet_sdf, find_text_sdf.id_str == Tweet_sdf.tweet_id, how='left') # Could also use 'left_outer'\n",
        "left_join.show()"
      ],
      "execution_count": 42,
      "outputs": [
        {
          "output_type": "stream",
          "text": [
            "+--------------------+----+--------------------+--------------------+----------------+-----------+-------------------+---------------------+--------------+-----------------+--------------+--------------------+--------------------+-------------+--------------------+------------------+--------------------+--------------+--------------------+--------------+---------+-----------------------+-------------------------+-----------------------+-------------+---------+--------------------+-------+-----+----+---------+-----+----+-----------+\n",
            "|              id_str|text|            tweet_id|    tweet_created_at|user_screen_name|user_id_str|user_statuses_count|user_favourites_count|user_protected|user_listed_count|user_following|    user_description|       user_location|user_verified|user_followers_count|user_friends_count|     user_created_at|tweet_language|               text_|favorite_count|favorited|in_reply_to_screen_name|in_reply_to_status_id_str|in_reply_to_user_id_str|retweet_count|retweeted|                text|WeekDay|Month|Date|TimeStamp|  Geo|Year|Create_Date|\n",
            "+--------------------+----+--------------------+--------------------+----------------+-----------+-------------------+---------------------+--------------+-----------------+--------------+--------------------+--------------------+-------------+--------------------+------------------+--------------------+--------------+--------------------+--------------+---------+-----------------------+-------------------------+-----------------------+-------------+---------+--------------------+-------+-----+----+---------+-----+----+-----------+\n",
            "|'793322306848292864'| nan|'793322306848292864'|Tue Nov 01 05:22:...|      AmazonHelp| 85741735.0|            2225478|                11366|         False|              792|         False|We answer Amazon ...|                 nan|         True|              149571|                53|Wed Oct 28 04:17:...|            en|@Murtazansp Hello...|             0|    False|             Murtazansp|     7.933158154119782...|           2908108256.0|            0|    False|                 nan|    Tue|  Nov|  01| 05:22:31|+0000|2016|     Nov 01|\n",
            "|'802611169642983424'| nan|'802611169642983424'|Sat Nov 26 20:33:...|     AsherzMason|715293713.0|              27157|                33195|         False|               44|         False|             22 🇬🇧|                 nan|        False|                 553|               166|Mon Oct 14 23:37:...|            en|@AmazonHelp Can't...|             0|    False|             AmazonHelp|     8.026107420128666...|             85741735.0|            0|    False|                 nan|    Sat|  Nov|  26| 20:33:09|+0000|2016|     Nov 26|\n",
            "|'802612367855157249'| nan|'802612367855157249'|Sat Nov 26 20:37:...|      AmazonHelp| 85741735.0|            2226902|                11379|         False|              794|         False|We answer Amazon ...|                 nan|         True|              149675|                53|Wed Oct 28 04:17:...|            en|@uglybeautyqueen ...|             0|    False|        uglybeautyqueen|     8.026114585048474...|             35028391.0|            0|    False|@uglybeautyqueen ...|    Sat|  Nov|  26| 20:37:54|+0000|2016|     Nov 26|\n",
            "|'802610799613243392'| nan|'802610799613243392'|Sat Nov 26 20:31:...|  HeLovedGlitter|354190845.0|              47498|                 2694|         False|               11|         False|En el Amor con Mi...|            ✨✨✨✨✨✨✨✨|        False|                 512|               619|Sat Aug 13 08:43:...|            en|@AmazonHelp so tr...|             0|    False|             AmazonHelp|     8.026053459652977...|             85741735.0|            0|    False|                 nan|    Sat|  Nov|  26| 20:31:41|+0000|2016|     Nov 26|\n",
            "|'802612493830987776'| nan|'802612493830987776'|Sat Nov 26 20:38:...|      missygpnyc| 19739759.0|              17416|                 5635|         False|                6|         False|Lewisham Girl, Yo...|                 nan|        False|                 207|               655|Thu Jan 29 22:41:...|            en|@AmazonHelp For n...|             0|    False|             AmazonHelp|     8.026108818298143...|             85741735.0|            0|    False|                 nan|    Sat|  Nov|  26| 20:38:25|+0000|2016|     Nov 26|\n",
            "|'793378188416131072'| nan|'793378188416131072'|Tue Nov 01 09:04:...|      AmazonHelp| 85741735.0|            2225496|                11366|         False|              792|         False|We answer Amazon ...|                 nan|         True|              149570|                53|Wed Oct 28 04:17:...|            en|@imkapsicum about...|             0|    False|             imkapsicum|     7.933696548782326...|             59156981.0|            0|    False|                 nan|    Tue|  Nov|  01| 09:04:35|+0000|2016|     Nov 01|\n",
            "|'802612002329858049'| nan|'802612002329858049'|Sat Nov 26 20:36:...|      AmazonHelp| 85741735.0|            2226902|                11379|         False|              794|         False|We answer Amazon ...|                 nan|         True|              149675|                53|Wed Oct 28 04:17:...|            en|@faizanams Hi, so...|             0|    False|              faizanams|     8.02609485302743e+17|            837127824.0|            0|    False|                 nan|    Sat|  Nov|  26| 20:36:27|+0000|2016|     Nov 26|\n",
            "|'802611248890265604'| nan|'802611248890265604'|Sat Nov 26 20:33:...|      AmazonHelp| 85741735.0|            2226916|                11379|         False|              794|         False|We answer Amazon ...|                 nan|         True|              149676|                53|Wed Oct 28 04:17:...|            en|@mvel4u Sorry to ...|             0|    False|                 mvel4u|     8.02606670039765e+17|            432582372.0|            0|    False|                 nan|    Sat|  Nov|  26| 20:33:28|+0000|2016|     Nov 26|\n",
            "|'802611458504847360'| nan|'802611458504847360'|Sat Nov 26 20:34:...| uglybeautyqueen| 35028391.0|               2267|                  120|         False|                3|         False|I love my kids , ...|          Sheffield |        False|                 134|               157|Fri Apr 24 20:23:...|            en|@AmazonUK What ti...|             0|    False|               AmazonUK|                      nan|            209004862.0|            0|    False|                 nan|    Sat|  Nov|  26| 20:34:18|+0000|2016|     Nov 26|\n",
            "|'793393912769576960'| nan|'793393912769576960'|Tue Nov 01 10:07:...|     mybharatraj|902137872.0|               1248|                  293|         False|                2|         False|         Mera BHARAT|               India|        False|                  50|                13|Wed Oct 24 16:24:...|            en|@AmazonHelp now a...|             0|    False|            mybharatraj|     7.933906366197596...|            902137872.0|            0|    False|                 nan|    Tue|  Nov|  01| 10:07:04|+0000|2016|     Nov 01|\n",
            "|'793369654878232577'| nan|'793369654878232577'|Tue Nov 01 08:30:...|      imkapsicum| 59156981.0|                257|                   89|         False|                0|         False|Web-developer, up...|       Mumbai, India|        False|                  94|                58|Wed Jul 22 15:36:...|            en|xtremely annoyed ...|             0|    False|                    nan|                      nan|                    nan|            0|    False|                 nan|    Tue|  Nov|  01| 08:30:40|+0000|2016|     Nov 01|\n",
            "|'802611490289291264'| nan|'802611490289291264'|Sat Nov 26 20:34:...|      AmazonHelp| 85741735.0|            2226916|                11379|         False|              794|         False|We answer Amazon ...|                 nan|         True|              149676|                53|Wed Oct 28 04:17:...|            en|@mvel4u Please do...|             0|    False|                 mvel4u|     8.02606670039765e+17|            432582372.0|            0|    False|                 nan|    Sat|  Nov|  26| 20:34:25|+0000|2016|     Nov 26|\n",
            "|'802610828373594115'| nan|'802610828373594115'|Sat Nov 26 20:31:...|       jackiesic| 37080099.0|              42252|                 1224|         False|              167|         False|Fiscal Conservati...|Southeast of Diso...|        False|                6047|              5187|Fri May 01 23:50:...|            en|@AmazonHelp On ch...|             0|    False|             AmazonHelp|     8.026102502600294...|             85741735.0|            0|    False|                 nan|    Sat|  Nov|  26| 20:31:47|+0000|2016|     Nov 26|\n",
            "|'793382930085253121'| nan|'793382930085253121'|Tue Nov 01 09:23:...|      AmazonHelp| 85741735.0|            2225534|                11367|         False|              795|         False|We answer Amazon ...|                 nan|         True|              149573|                53|Wed Oct 28 04:17:...|            en|@mybharatraj Hi! ...|             0|    False|            mybharatraj|     7.93379112685568e+17|            902137872.0|            0|    False|@mybharatraj Hi! ...|    Tue|  Nov|  01| 09:23:25|+0000|2016|     Nov 01|\n",
            "|'793379112685568000'| nan|'793379112685568000'|Tue Nov 01 09:08:...|     mybharatraj|902137872.0|               1248|                  293|         False|                2|         False|         Mera BHARAT|               India|        False|                  50|                13|Wed Oct 24 16:24:...|            en|@amazonIN it is r...|             0|    False|               amazonIN|                      nan|           1282946089.0|            0|    False|                 nan|    Tue|  Nov|  01| 09:08:15|+0000|2016|     Nov 01|\n",
            "|'802611878274809856'| nan|'802611878274809856'|Sat Nov 26 20:35:...|      christesla|174427901.0|               5793|                 2114|         False|               32|         False|Director of @Cybe...|           Liverpool|        False|                 702|               918|Tue Aug 03 22:26:...|            en|@AmazonUK what ti...|             0|    False|               AmazonUK|                      nan|            209004862.0|            0|    False|@AmazonUK what ti...|    Sat|  Nov|  26| 20:35:58|+0000|2016|     Nov 26|\n",
            "|'802611248424751104'| nan|'802611248424751104'|Sat Nov 26 20:33:...|      AmazonHelp| 85741735.0|            2226916|                11379|         False|              794|         False|We answer Amazon ...|                 nan|         True|              149676|                53|Wed Oct 28 04:17:...|            en|@Jonny_Winter I'm...|             0|    False|           Jonny_Winter|     8.026096867804488...|             90684338.0|            0|    False|                 nan|    Sat|  Nov|  26| 20:33:28|+0000|2016|     Nov 26|\n",
            "|'802611489521733632'| nan|'802611489521733632'|Sat Nov 26 20:34:...|      AmazonHelp| 85741735.0|            2226916|                11379|         False|              794|         False|We answer Amazon ...|                 nan|         True|              149676|                53|Wed Oct 28 04:17:...|            en|@mvel4u Request y...|             0|    False|                 mvel4u|     8.02606670039765e+17|            432582372.0|            0|    False|                 nan|    Sat|  Nov|  26| 20:34:25|+0000|2016|     Nov 26|\n",
            "|'802611347338850304'| nan|'802611347338850304'|Sat Nov 26 20:33:...|        HoopRobe|628477747.0|               8265|                 2200|         False|                0|         False|views are not my ...|Vancouver, Britis...|        False|                 193|               154|Fri Jul 06 15:29:...|            en|@AmazonHelp 'Amaz...|             0|    False|             AmazonHelp|     8.02611012604072e+17|             85741735.0|            0|    False|                 nan|    Sat|  Nov|  26| 20:33:51|+0000|2016|     Nov 26|\n",
            "|'793381418395136000'| nan|'793381418395136000'|Tue Nov 01 09:17:...| praveen_pandey_|110354554.0|                408|                    3|         False|                1|         False|                 nan|                 nan|        False|                  52|                37|Mon Feb 01 07:21:...|            en|@AmazonHelp yster...|             0|    False|             AmazonHelp|                      nan|             85741735.0|            0|    False|                 nan|    Tue|  Nov|  01| 09:17:25|+0000|2016|     Nov 01|\n",
            "+--------------------+----+--------------------+--------------------+----------------+-----------+-------------------+---------------------+--------------+-----------------+--------------+--------------------+--------------------+-------------+--------------------+------------------+--------------------+--------------+--------------------+--------------+---------+-----------------------+-------------------------+-----------------------+-------------+---------+--------------------+-------+-----+----+---------+-----+----+-----------+\n",
            "only showing top 20 rows\n",
            "\n"
          ],
          "name": "stdout"
        }
      ]
    },
    {
      "cell_type": "code",
      "metadata": {
        "id": "5YTGSm0kAZF8",
        "colab_type": "code",
        "colab": {
          "base_uri": "https://localhost:8080/",
          "height": 507
        },
        "outputId": "406e4442-3922-4fc5-a498-c62f28e418e1"
      },
      "source": [
        "#Selecting id_str and text_ from the joined tables\n",
        "\n",
        "left_join_out = left_join.select(left_join.id_str, left_join.text_)\n",
        "\n",
        "#TweetDataCol = Tweet_sdf.select(Tweet_sdf.id_str, Tweet_sdf.Create_Date, Tweet_sdf.user_verified, Tweet_sdf.user_favourites_count, Tweet_sdf.retweet_count, Tweet_sdf.text_)\n",
        "left_join_out.show(20, False)"
      ],
      "execution_count": 43,
      "outputs": [
        {
          "output_type": "stream",
          "text": [
            "+--------------------+----------------------------------------------------------------------------------------------------------------------------------------------------------+\n",
            "|id_str              |text_                                                                                                                                                     |\n",
            "+--------------------+----------------------------------------------------------------------------------------------------------------------------------------------------------+\n",
            "|'793552243689676800'|@AmazonHelp amazon have made and admitted to a series of error that have impacted a myself and a colleague                                                |\n",
            "|'793595479116439552'|@SuNoSuKo Please don't provide your order details we consider them as personal info. Our twitter page is visible to public. ^VM                           |\n",
            "|'793751757247619072'|@aasifkhan Hey, I'm sorry for this. Product should reach the fulfillment center, when it does the refund will be issued. ^AA                              |\n",
            "|'793788930361556996'|@AmazonHelp I would get more assistance from the dead than from AmazonUK                                                                                  |\n",
            "|'793797330310983680'|Disgusting service @amazonIN\r\n",
            "Products are not getting delivered at door step instead getting call from delivery boy to collect from bus stop             |\n",
            "|'793819060505108480'|@Joe_Twells1 Sorry about that! Please try this Contact Us link for the UK: https://t.co/qy3J24VGxb. ^LS                                                   |\n",
            "|'793828605746896897'|Made an order using @AmazonUK Prime last Wednesday. Waited in for it all day Saturday as it was 'being delivered today'. It's just arrived 😑             |\n",
            "|'793899985444241408'|@JohnnyHeatrock Hey, thanks for reaching out. You should find some helpful information about this offer here: https://t.co/hb0WbW7w9l ^PF                 |\n",
            "|'793903133462331392'|@mrniceguy1987 Please keep us posted with the arrival of your order. We want to make sure it gets to you. ^GL                                             |\n",
            "|'793904094595444736'|@AmazonHelp will do                                                                                                                                       |\n",
            "|'793920564628955137'|@AmazonHelp need help with fire stick. There's nothing on network settings. Tried to call but users on phone useless https://t.co/x72TzjatGj              |\n",
            "|'793923389203316736'|@magicwaz Sorry for the delays. Have you received any emails recently explaining the extensions? ^BG                                                      |\n",
            "|'794220779768451072'|@AmazonHelp I could see it is available from the same seller, yet i am being denied for a replacement. \r\n",
            "myphone : +91-7899888859. https://t.co/UQj7S9AEYg|\n",
            "|'794263348447678464'|@Nikki_Revak I'm sorry your FireTV Stick isn't working.Can you tell us what's happening? Have you restarted it: https://t.co/8hGwd2KfmD? ^KD              |\n",
            "|'794279214388285440'|@samthejewishguy Sorry to hear this! You can find refund/replacement options here:  https://t.co/Y5jpI9gRhE. ^MT                                          |\n",
            "|'794280604221276160'|@jesskatopps Sorry for this. For help on how to change the language please look here: https://t.co/cha8S78HwI ^GE                                         |\n",
            "|'794305189926858753'|@AmazonHelp my package was supposed to arrive tomorrow, but now it's set back until the 9th . Very frustrating.                                           |\n",
            "|'794314585608167425'|@KrishnaNand162 Hi, I'm afraid we'll not be able to provide any further insight with your concern. 1/2 ^MJ                                                |\n",
            "|'794565369084186625'|@shiv_iipm Please don't provide your details, as we consider it to be personal information. Our Twitter page is visible to the public. ^AM                |\n",
            "|'794648919720493061'|@_Balaji_ Hi there, for us to assist you better please reach us via https://t.co/4hcVq1YXsB &gt; Select the issue &gt; choose phone &gt; (1/2)            |\n",
            "+--------------------+----------------------------------------------------------------------------------------------------------------------------------------------------------+\n",
            "only showing top 20 rows\n",
            "\n"
          ],
          "name": "stdout"
        }
      ]
    },
    {
      "cell_type": "code",
      "metadata": {
        "id": "GJ3oMNBOAiUR",
        "colab_type": "code",
        "colab": {
          "base_uri": "https://localhost:8080/",
          "height": 252
        },
        "outputId": "9e30e183-34c7-4fe6-fc2a-0e850de0e74d"
      },
      "source": [
        "join_output = left_join_out.select(\"*\").toPandas()\n",
        "\n",
        "print(join_output)"
      ],
      "execution_count": 44,
      "outputs": [
        {
          "output_type": "stream",
          "text": [
            "                     id_str                                              text_\n",
            "0      '793552243689676800'  @AmazonHelp amazon have made and admitted to a...\n",
            "1      '793595479116439552'  @SuNoSuKo Please don't provide your order deta...\n",
            "2      '793751757247619072'  @aasifkhan Hey, I'm sorry for this. Product sh...\n",
            "3      '793788930361556996'  @AmazonHelp I would get more assistance from t...\n",
            "4      '793797330310983680'  Disgusting service @amazonIN\\r\\nProducts are n...\n",
            "...                     ...                                                ...\n",
            "53923  '809401768211685376'  @AmazonVideoIN Censored content, no support fo...\n",
            "53924  '809412394212466689'  @AmazonHelp @rathipoonam please share details,...\n",
            "53925  '809449404801421314'  @SlapdashGourmet We'd like to help. Are all it...\n",
            "53926  '809513226144804864'  @deecaltee When did you reach out to the selle...\n",
            "53927  '809729921320882179'  @engeetham Hi, sorry for the long stretch. We'...\n",
            "\n",
            "[53928 rows x 2 columns]\n"
          ],
          "name": "stdout"
        }
      ]
    },
    {
      "cell_type": "code",
      "metadata": {
        "id": "SarajgFEAn21",
        "colab_type": "code",
        "colab": {}
      },
      "source": [
        "#Exporting output to excel\n",
        "join_output.to_excel(r\"C:\\Users\\ishre\\Desktop\\IDS 561\\Assignments\\Assignment 2\\find_text_output.xlsx\")"
      ],
      "execution_count": 0,
      "outputs": []
    },
    {
      "cell_type": "code",
      "metadata": {
        "id": "Bb9lShV_Qdy4",
        "colab_type": "code",
        "colab": {}
      },
      "source": [
        ""
      ],
      "execution_count": 0,
      "outputs": []
    }
  ]
}